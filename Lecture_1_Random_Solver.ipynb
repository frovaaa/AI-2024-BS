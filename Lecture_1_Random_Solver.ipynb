{
 "cells": [
  {
   "attachments": {},
   "cell_type": "markdown",
   "metadata": {
    "collapsed": true,
    "id": "DavnOBwQ2_aL"
   },
   "source": [
    "## Artificial Intelligence (BSc) SA 2024-2025\n",
    "\n",
    "- Prof. Luca Gambardella\n",
    "- Fatima Ezzeddine ([`fatima.ezzeddine@usi.ch`](mailto:fatima.ezzeddine@usi.ch))<br>\n",
    "\n",
    "---\n",
    "# Lab 1:\n",
    "\n",
    "Lab Objectives:\n",
    "\n",
    "Traveling Salesman Problem:\n",
    "- read TSP data\n",
    "- define euclidean distance function\n",
    "- define a TSPProblemInstance python class \n",
    "- plot raw data\n",
    "- generate naive solution \n",
    "- check if the solution is valid\n",
    "- evaluate solution!\n",
    "\n",
    "\n",
    "Job Shop Scehduling Problem:\n",
    "- read JSP data\n",
    "- define objective function\n",
    "- use mealpy algorithm to get a solution\n",
    "- plot gant chart for solution\n",
    "\n",
    "\n",
    "NOTE: I've marked all the code that you will have to fill with a `# TODO` comment\n"
   ]
  },
  {
   "cell_type": "markdown",
   "metadata": {},
   "source": [
    "### Traveling Salesman problem (TSP)\n",
    "TSPLIB"
   ]
  },
  {
   "attachments": {},
   "cell_type": "markdown",
   "metadata": {
    "id": "A56HlsOG2_aQ"
   },
   "source": [
    "This cell below is simply importing some useful stuff for later"
   ]
  },
  {
   "cell_type": "code",
   "execution_count": 80,
   "metadata": {
    "id": "-c-1eDC92_aS"
   },
   "outputs": [],
   "source": [
    "# The glob module finds all the pathnames matching a specified pattern\n",
    "import glob\n",
    "\n",
    "# Numpy library used for working with arrays, has functions for working in domain of linear algebra, and matrices\n",
    "import numpy as np\n",
    "\n",
    "# Matplotlib is a library for creating visualizations\n",
    "from matplotlib import pyplot as plt\n",
    "\n",
    "import sys\n",
    "np.set_printoptions(threshold=sys.maxsize)"
   ]
  },
  {
   "attachments": {},
   "cell_type": "markdown",
   "metadata": {
    "id": "eg1ejN9z2_aT"
   },
   "source": [
    "### Read TSP data\n",
    "In this Cup you will have to deal with predefined set of problems. These problems are located in the `problems` folder.\n",
    "\n",
    "First lets get list them out"
   ]
  },
  {
   "cell_type": "code",
   "execution_count": 4,
   "metadata": {
    "colab": {
     "base_uri": "https://localhost:8080/"
    },
    "id": "Nlp4SeQw2_aU",
    "outputId": "ad287d06-943d-48e4-a3bd-688adadf7c34"
   },
   "outputs": [
    {
     "name": "stdout",
     "output_type": "stream",
     "text": [
      "ems/pr439.tsp\n",
      "ems/pcb442.tsp\n",
      "ems/d198.tsp\n",
      "ems/fl1577.tsp\n",
      "ems/ch130.tsp\n",
      "ems/u1060.tsp\n",
      "ems/kroA100.tsp\n",
      "ems/eil76.tsp\n",
      "ems/rat783.tsp\n",
      "ems/lin318.tsp\n"
     ]
    }
   ],
   "source": [
    "# read all the files that has extention .tsp to the problems array object\n",
    "problems = glob.glob('./TSP_problems/*.tsp')\n",
    "\n",
    "# loop over the problems and print the problem name \n",
    "for prob in problems:\n",
    "    print(prob[11:])"
   ]
  },
  {
   "cell_type": "code",
   "execution_count": 6,
   "metadata": {
    "colab": {
     "base_uri": "https://localhost:8080/"
    },
    "id": "VEPTGiM72_aW",
    "outputId": "a9a38b71-41bb-4975-e301-b0fe75cb1ddd"
   },
   "outputs": [
    {
     "name": "stdout",
     "output_type": "stream",
     "text": [
      "False\n"
     ]
    }
   ],
   "source": [
    "# Checking if all of the 10 problems are in the folder would be a waste of time so we can write a line of code just to check if they are all there\n",
    "print(np.all([n[11:] in ['fl1577.tsp','pr439.tsp','ch130.tsp','rat783.tsp','d198.tsp', 'kroA100.tsp','u1060.tsp','lin318.tsp','eil76.tsp','pcb442.tsp'] for n in problems]))"
   ]
  },
  {
   "attachments": {},
   "cell_type": "markdown",
   "metadata": {
    "id": "AidTvgtd2_aW"
   },
   "source": [
    "#### TSP File format\n",
    "All the problems are stored in a `.tsp` (this file is actually a renamed `.txt` file, so you could open them with your favorite text editor)\n",
    "\n",
    "As we will see in a bit all the problems files are composed of different sections:\n",
    "* `NAME`: the shortned name of the problem\n",
    "* `COMMENT`: a comment area that can contain the full name of the problem\n",
    "* `TYPE`: this defines the type of problem at hand, in our case is always TSP\n",
    "* `DIMENSION`: this states the problem dimension\n",
    "* `EDGE_WEIGHT_TYPE`: this section states the types of weights applied to edges, in our case it is always EUC_2D or the weights are giveng using the euclidean distance in 2 dimension\n",
    "* `BEST_KNOWN`: this states the best known result obtained, note that as the Prof said, it is unlikely to get a better performance than this\n",
    "* `NODE_COORD_SECTION`: finally we have the section that states the triplets that defines the problems points. These triplets are (point_number, x,y).\n",
    "\n",
    "Now that we know all of that, lets print the content of a single problem"
   ]
  },
  {
   "cell_type": "code",
   "execution_count": 7,
   "metadata": {
    "colab": {
     "base_uri": "https://localhost:8080/"
    },
    "id": "5PJZzhc42_aX",
    "outputId": "6cad8176-ed79-4ecf-fc1e-0e5bd09f7eab"
   },
   "outputs": [
    {
     "name": "stdout",
     "output_type": "stream",
     "text": [
      "['NAME: eil76', 'COMMENT: 76-city problem (Christofides/Eilon)', 'TYPE: TSP', 'DIMENSION: 76', 'EDGE_WEIGHT_TYPE: EUC_2D', 'BEST_KNOWN: 538', 'NODE_COORD_SECTION', '1 22 22', '2 36 26', '3 21 45', '4 45 35', '5 55 20', '6 33 34', '7 50 50', '8 55 45', '9 26 59', '10 40 66', '11 55 65', '12 35 51', '13 62 35', '14 62 57', '15 62 24', '16 21 36', '17 33 44', '18 9 56', '19 62 48', '20 66 14', '21 44 13', '22 26 13', '23 11 28', '24 7 43', '25 17 64', '26 41 46', '27 55 34', '28 35 16', '29 52 26', '30 43 26', '31 31 76', '32 22 53', '33 26 29', '34 50 40', '35 55 50', '36 54 10', '37 60 15', '38 47 66', '39 30 60', '40 30 50', '41 12 17', '42 15 14', '43 16 19', '44 21 48', '45 50 30', '46 51 42', '47 50 15', '48 48 21', '49 12 38', '50 15 56', '51 29 39', '52 54 38', '53 55 57', '54 67 41', '55 10 70', '56 6 25', '57 65 27', '58 40 60', '59 70 64', '60 64 4', '61 36 6', '62 30 20', '63 20 30', '64 15 5', '65 50 70', '66 57 72', '67 45 42', '68 38 33', '69 50 4', '70 66 8', '71 59 5', '72 35 60', '73 27 24', '74 40 20', '75 40 37', '76 40 40', 'EOF']\n"
     ]
    }
   ],
   "source": [
    "example_problem = \"./TSP_problems/eil76.tsp\"\n",
    "# open problem file as read and print it's content lines\n",
    "with open(example_problem,\"r\") as exprob:\n",
    "    print(exprob.read().splitlines())"
   ]
  },
  {
   "attachments": {},
   "cell_type": "markdown",
   "metadata": {
    "id": "CRy8bEen2_aY"
   },
   "source": [
    "### Euclidean Distance\n",
    "Since all of our problems are using the euclidean distance between points for the edges weights.\n",
    "We will now define a function that computes the euclidean distance. This distance will also be used to build the distance matrix"
   ]
  },
  {
   "cell_type": "code",
   "execution_count": 8,
   "metadata": {
    "id": "HvawRPVl2_aZ"
   },
   "outputs": [],
   "source": [
    "#define function to compute euclidean distance between 2 points\n",
    "def distance_euc(point_i, point_j):\n",
    "    rounding = 0\n",
    "    x_i, y_i = point_i[0], point_i[1]\n",
    "    x_j, y_j = point_j[0], point_j[1]\n",
    "    # use the numpy sqrt method\n",
    "    distance = np.sqrt((x_i - x_j) ** 2 + (y_i - y_j) ** 2)\n",
    "    return round(distance, rounding)"
   ]
  },
  {
   "attachments": {},
   "cell_type": "markdown",
   "metadata": {
    "id": "lB3WL3mj2_aZ"
   },
   "source": [
    "Let's test it"
   ]
  },
  {
   "cell_type": "code",
   "execution_count": 9,
   "metadata": {
    "colab": {
     "base_uri": "https://localhost:8080/"
    },
    "id": "SqcLycl12_ab",
    "outputId": "6055112f-bb8e-4f88-eca9-341469d0b4ae"
   },
   "outputs": [
    {
     "data": {
      "text/plain": [
       "np.float64(4.0)"
      ]
     },
     "execution_count": 9,
     "metadata": {},
     "output_type": "execute_result"
    }
   ],
   "source": [
    "point_1 = (2, 2)\n",
    "point_2 = (5, 5)\n",
    "distance_euc(point_1, point_2)\n",
    "# Expected output is 4.0 with rounding to 0 "
   ]
  },
  {
   "attachments": {},
   "cell_type": "markdown",
   "metadata": {
    "id": "VHbmBUD02_ab"
   },
   "source": [
    "### Reading and storing the data\n",
    "We will now define a Class called `ProblemInstance`\n",
    "\n",
    "in the Constructor of the class (`__init__()`method of a class in Python) you will have to implement the code for:\n",
    "* reading the raw data\n",
    "* store the metadata\n",
    "* read all the point and store them\n",
    "* code the method that creates the distance matrix between points\n",
    "* \\[optional\\] check if the problem loaded has an optimal and in that case store the optimal solution\n",
    "* \\[optional\\] code the plotting method\n"
   ]
  },
  {
   "cell_type": "code",
   "execution_count": 77,
   "metadata": {
    "id": "E8B2pHBa2_ac"
   },
   "outputs": [],
   "source": [
    "class ProblemInstance:\n",
    "\n",
    "    def __init__(self, name_tsp):\n",
    "\n",
    "        # boolean if the problem have an sxisting optimal solution\n",
    "        self.exist_opt = False\n",
    "\n",
    "        # the optimal tour that was found before\n",
    "        self.optimal_tour = None\n",
    "\n",
    "        # distance matrix\n",
    "        # Example distance matrix representing distances between 4 points\n",
    "        #    A    B    C    D\n",
    "        # A  0.0  2.5  3.0  4.2\n",
    "        # B  2.5  0.0  1.8  3.6\n",
    "        # C  3.0  1.8  0.0  2.9\n",
    "        # D  4.2  3.6  2.9  0.0\n",
    "        self.dist_matrix = None\n",
    "\n",
    "        # read raw data\n",
    "        with open(name_tsp) as f_o:\n",
    "            data = f_o.read()\n",
    "            self.lines = data.splitlines()\n",
    "\n",
    "        # store metadata set information\n",
    "\n",
    "        # here we expect the name of the problem\n",
    "        self.name = self.lines[0].split(\"NAME: \")[1]\n",
    "\n",
    "        # here we expect the number of points in the considered instance\n",
    "        self.nPoints = int(self.lines[3].split(\"DIMENSION: \")[1])\n",
    "\n",
    "        # here the length of the best solution\n",
    "        self.best_sol = float(self.lines[5].split(\"BEST_KNOWN: \")[1])\n",
    "\n",
    "        # read all data points and store them\n",
    "        self.points = np.zeros(\n",
    "            (self.nPoints, 3)\n",
    "        )  # this is the structure where we will store the pts data\n",
    "        offset = self.lines.index(\"NODE_COORD_SECTION\") + 1\n",
    "\n",
    "        for i in range(self.nPoints):\n",
    "            coords = self.lines[i + offset].split(\" \")\n",
    "            self.points[i, 0] = int(coords[0])\n",
    "            self.points[i, 1] = float(coords[1])\n",
    "            self.points[i, 2] = float(coords[2])\n",
    "\n",
    "        # create distance matrix bx calling create_dist_matrix\n",
    "        self.create_dist_matrix()\n",
    "\n",
    "        # if the problem is one with a optimal solution, that solution is loaded\n",
    "        self.optimal_tour = np.zeros(self.nPoints, dtype=int)\n",
    "        if name_tsp in [\"./TSP_problems/eil76.tsp\", \"./TSP_problems/kroA100.tsp\"]:\n",
    "            # change the boolean to True since an optimal solution exist\n",
    "            self.exist_opt = True\n",
    "            # open the optimal solution file and read it\n",
    "            file_object = open(name_tsp.replace(\".tsp\", \".opt.tour\"))\n",
    "            data = file_object.read()\n",
    "            file_object.close()\n",
    "            lines = data.splitlines()\n",
    "\n",
    "            # read all data points and store them\n",
    "\n",
    "            # initialize an array with 0s using np.zeros\n",
    "            self.optimal_tour = np.zeros(self.nPoints, dtype=int)\n",
    "            # read the points from the file and fill the array optimal_tour\n",
    "            offset = lines.index(\"TOUR_SECTION\") + 1\n",
    "            for i in range(self.nPoints):\n",
    "                self.optimal_tour[i] = lines[i + offset]\n",
    "\n",
    "    # for display purposes\n",
    "    def print_info(self):\n",
    "        print(\"\\n#############################\\n\")\n",
    "        print(\"name: \" + self.name)\n",
    "        print(\"nPoints: \" + str(self.nPoints))\n",
    "        print(\"best_sol: \" + str(self.best_sol))\n",
    "        print(\"exist optimal: \" + str(self.exist_opt))\n",
    "\n",
    "    # for display purposes\n",
    "    def plot_data(self, show_numbers=False):\n",
    "        # define a figure with it's size\n",
    "        plt.figure(figsize=(8, 8))\n",
    "\n",
    "        # give it a title as the problem instance name\n",
    "        plt.title(self.name)\n",
    "\n",
    "        # scatter takes an x and y axis values that are in this case the points that we have\n",
    "        plt.scatter(self.points[:, 1], self.points[:, 2])\n",
    "\n",
    "        # if we want to add to the plot next to each point it's number or id\n",
    "        if show_numbers:\n",
    "            for i, txt in enumerate(np.arange(self.nPoints)):\n",
    "                plt.annotate(txt, (self.points[i, 1], self.points[i, 2]))\n",
    "\n",
    "        # display the plot/figure\n",
    "        plt.show()\n",
    "\n",
    "    def create_dist_matrix(self):\n",
    "        # initialize the matrix with dimension n x n\n",
    "        self.dist_matrix = np.zeros((self.nPoints, self.nPoints))\n",
    "\n",
    "        # loop over all the pints and compute the euclidean distance between every pair of points with index i and j\n",
    "        for i in range(self.nPoints):\n",
    "            for j in range(i, self.nPoints):\n",
    "                self.dist_matrix[i, j] = distance_euc(\n",
    "                    self.points[i][1:3], self.points[j][1:3]\n",
    "                )\n",
    "\n",
    "        # transpose of the matrix and fill missing other 0s\n",
    "        # this was made to reduce the complexity\n",
    "        self.dist_matrix += self.dist_matrix.T"
   ]
  },
  {
   "attachments": {},
   "cell_type": "markdown",
   "metadata": {
    "id": "APxM3ouk2_ad"
   },
   "source": [
    "------------------------\n",
    "Now we can test our Class with an example problem"
   ]
  },
  {
   "cell_type": "code",
   "execution_count": 78,
   "metadata": {
    "id": "BEAe-Jn72_ad"
   },
   "outputs": [
    {
     "name": "stdout",
     "output_type": "stream",
     "text": [
      "\n",
      "#############################\n",
      "\n",
      "name: eil76\n",
      "nPoints: 76\n",
      "best_sol: 538.0\n",
      "exist optimal: True\n"
     ]
    },
    {
     "data": {
      "image/png": "[encoded data removed]",
      "text/plain": [
       "<Figure size 800x800 with 1 Axes>"
      ]
     },
     "metadata": {},
     "output_type": "display_data"
    },
    {
     "data": {
      "text/plain": [
       "'\\n#############################\\n\\nname: eil76\\nnPoints: 76\\nbest_sol: 538.0\\nexist optimal: True\\n'"
      ]
     },
     "execution_count": 78,
     "metadata": {},
     "output_type": "execute_result"
    }
   ],
   "source": [
    "example_problem = \"./TSP_problems/eil76.tsp\"\n",
    "p_inst = ProblemInstance(example_problem)\n",
    "\n",
    "p_inst.print_info()\n",
    "p_inst.plot_data()\n",
    "# Expected output\n",
    "\"\"\"\n",
    "#############################\n",
    "\n",
    "name: eil76\n",
    "nPoints: 76\n",
    "best_sol: 538.0\n",
    "exist optimal: True\n",
    "\"\"\""
   ]
  },
  {
   "cell_type": "code",
   "execution_count": 82,
   "metadata": {
    "colab": {
     "base_uri": "https://localhost:8080/",
     "height": 499
    },
    "id": "yq0ANvoC2_ae",
    "outputId": "6b11931c-0707-457d-d7b3-f556a26b1f46",
    "scrolled": false
   },
   "outputs": [
    {
     "data": {
      "image/png": "[encoded data removed]",
      "text/plain": [
       "<Figure size 800x800 with 1 Axes>"
      ]
     },
     "metadata": {},
     "output_type": "display_data"
    }
   ],
   "source": [
    "p_inst.plot_data(show_numbers=True)"
   ]
  },
  {
   "attachments": {},
   "cell_type": "markdown",
   "metadata": {
    "id": "WjCTdGdK2_af"
   },
   "source": [
    "-------------\n",
    "### Random solver \n",
    "Now we will code the random solver and test it with a class called `SolverTSP` that takes the solvers and the problem instance and act as a framework to compute the solution and gives us some additional information.\n",
    "We will also need to code the `evaluate_solution` method of the the `SolverTSP` class"
   ]
  },
  {
   "cell_type": "code",
   "execution_count": 96,
   "metadata": {
    "id": "K-jm3cj42_af"
   },
   "outputs": [
    {
     "name": "stdout",
     "output_type": "stream",
     "text": [
      "[19 41 49 34 53 60 75 46 13 54 67  1 55 31 45  2 59 58 43 52 44 65  9  0\n",
      " 11 63 38 40 18  3 42 12 70 16 23 50 39 17 25  5 56 64 48 21 35 20 24 15\n",
      "  8 36 47 30 27 26 32 37 22  4 29 71 33  7 62 72 28 57 51 69 66 14 74 68\n",
      "  6 61 73 10]\n"
     ]
    }
   ],
   "source": [
    "# Generate a random permutation of numbers from 0 to instance_.nPoints - 1.\n",
    "#  This is done using np.arange(instance_.nPoints), which creates an array of integers from 0 to instance_.nPoints - 1.\n",
    "\n",
    "# np.random.choice is then used to randomly shuffle this array.\n",
    "# It essentially selects elements from the array in a random order without replacement, ensuring that each element is selected exactly once.\n",
    "\n",
    "# The result is an array containing a random permutation of integers from 0 to instance_.nPoints - 1.\n",
    "\n",
    "\n",
    "def random_method(instance_):\n",
    "    res = np.arange(instance_.nPoints)\n",
    "    return np.random.choice(res, size=instance_.nPoints, replace=False)\n",
    "\n",
    "\n",
    "print(random_method(p_inst))"
   ]
  },
  {
   "cell_type": "code",
   "execution_count": 97,
   "metadata": {},
   "outputs": [],
   "source": [
    "available_methods = {\"random\": random_method}"
   ]
  },
  {
   "cell_type": "code",
   "execution_count": 12,
   "metadata": {
    "id": "7rtm0PHg2_af"
   },
   "outputs": [],
   "source": [
    "# library to get time\n",
    "from time import time as t\n",
    "\n",
    "\n",
    "class SolverTSP:\n",
    "    def __init__(self, algorithm_name, problem_instance):\n",
    "        # duration taken to find the solution\n",
    "        self.duration = np.inf\n",
    "\n",
    "        # length of the tour found by the solver\n",
    "        self.found_length = np.inf\n",
    "\n",
    "        # name of the algorithm\n",
    "        self.algorithm_name = algorithm_name\n",
    "\n",
    "        # initialization\n",
    "        self.name_method = \"initialized with \" + algorithm_name\n",
    "\n",
    "        # boolean to check if solved problem\n",
    "        self.solved = False\n",
    "\n",
    "        # TSP problem intance to be solved\n",
    "        self.problem_instance = problem_instance\n",
    "\n",
    "        # the found solution\n",
    "        self.solution = None\n",
    "\n",
    "    # function that takes computes the solution by applying the function given as input\n",
    "    def compute_solution(self, verbose=True, return_value=True):\n",
    "        self.solved = False\n",
    "        if verbose:\n",
    "            print(f\"###  solving with {self.algorithm_name}  ####\")\n",
    "\n",
    "        # starting time\n",
    "        start_time = t()\n",
    "\n",
    "        # available methods that was defined earlier have a pointer to the function (algorithm name) and take as input the problem instance\n",
    "        self.solution = available_methods[self.algorithm_name](self.problem_instance)\n",
    "\n",
    "        # check if solution is valid implemented\n",
    "        assert self.check_if_solution_is_valid(\n",
    "            self.solution\n",
    "        ), \"Error the solution is not valid\"\n",
    "        # end time of the solution\n",
    "        end_time = t()\n",
    "        self.duration = np.around(end_time - start_time, 3)\n",
    "        if verbose:\n",
    "            print(f\"###  solved  ####\")\n",
    "        self.solved = True\n",
    "        # compute the length of the solution tour\n",
    "        self.evaluate_solution()\n",
    "\n",
    "        # compute the gap\n",
    "        self._gap()\n",
    "\n",
    "        if return_value:\n",
    "            return self.solution\n",
    "\n",
    "    # simple plot of the soluton found\n",
    "    def plot_solution(self):\n",
    "        assert self.solved, \"You can't plot the solution, you need to compute it first!\"\n",
    "        plt.figure(figsize=(8, 8))\n",
    "        self._gap()\n",
    "        plt.title(\n",
    "            f\"{self.problem_instance.name} solved with {self.name_method} solver, gap {self.gap}\"\n",
    "        )\n",
    "        ordered_points = self.problem_instance.points[self.solution]\n",
    "        plt.plot(ordered_points[:, 1], ordered_points[:, 2], \"b-\")\n",
    "        plt.show()\n",
    "\n",
    "    # check if the solution contains all the point and visited exactly one\n",
    "    def check_if_solution_is_valid(self, solution):\n",
    "        rights_values = np.sum(\n",
    "            [\n",
    "                self.check_validation(i, solution)\n",
    "                for i in np.arange(self.problem_instance.nPoints)\n",
    "            ]\n",
    "        )\n",
    "        if rights_values == self.problem_instance.nPoints:\n",
    "            return True\n",
    "        else:\n",
    "            return False\n",
    "\n",
    "    # check if a point/node inside a solution\n",
    "    def check_validation(self, node, solution):\n",
    "        if np.sum(solution == node) == 1:\n",
    "            return 1\n",
    "        else:\n",
    "            return 0\n",
    "\n",
    "    # compute the tour lengh by the help of distance matrix already computed\n",
    "    def evaluate_solution(self, return_value=False):\n",
    "        total_length = 0\n",
    "        from_node_id = self.solution[0]  # starting_node\n",
    "\n",
    "        # loop over all the nodes and add successive distances\n",
    "        for node_id in self.solution[1:]:\n",
    "            edge_distance = self.problem_instance.dist_matrix[from_node_id, node_id]\n",
    "            total_length += edge_distance\n",
    "            from_node_id = node_id\n",
    "\n",
    "        # have a complete tour and add the distance to go back to starting node\n",
    "        self.found_length = (\n",
    "            total_length\n",
    "            + self.problem_instance.dist_matrix[self.solution[0], from_node_id]\n",
    "        )\n",
    "        if return_value:\n",
    "            return total_length\n",
    "\n",
    "    # compute (solution - best solution)/best solution in %\n",
    "    # TODO\n",
    "    def _gap(self):\n",
    "        self.evaluate_solution(return_value=False)\n",
    "        # self.gap = np.round()"
   ]
  },
  {
   "attachments": {},
   "cell_type": "markdown",
   "metadata": {
    "id": "umtC2uwz2_ag"
   },
   "source": [
    "----------------------------\n",
    "Now we will test our code"
   ]
  },
  {
   "cell_type": "code",
   "execution_count": null,
   "metadata": {
    "colab": {
     "base_uri": "https://localhost:8080/",
     "height": 642
    },
    "id": "PT-rZMKf2_ag",
    "outputId": "d690bd7f-d50c-44ac-b652-2d7595acbe85"
   },
   "outputs": [],
   "source": [
    "\n",
    "# here I'm repeating this two lines just to remind you which problem we are using\n",
    "example_problem = \"./problems/eil76.tsp\"\n",
    "p_inst = ProblemInstance(example_problem)\n",
    "available_methods = {\"random\": random_method}\n",
    "solver_name=\"random\"\n",
    "# TODO\n",
    "# 1. create an instance of SolverTSP\n",
    "solver = SolverTSP(solver_name, p_inst)\n",
    "# 2. compute a solution\n",
    "solver.compute_solution()\n",
    "# 3. print the information as for the output\n",
    "print(f\"the total length for the solution found is {solver.found_length}\",\n",
    "      f\"while the optimal length is {solver.problem_instance.best_sol}\",\n",
    "      f\"the gap is {solver.gap}%\",\n",
    "      f\"the solution is found in {solver.duration} seconds\", sep=\"\\n\")\n",
    "# 4. plot the solution\n",
    "solver.plot_solution()\n",
    "# this is the output expected and after that the solution's plot\n",
    "\"\"\"\n",
    "###  solving with random  ####\n",
    "###  solved  ####\n",
    "the total length for the solution found is 2424.0\n",
    "while the optimal length is 538.0\n",
    "the gap is 350.56%\n",
    "the solution is found in 0.0 seconds\n",
    "\"\"\""
   ]
  },
  {
   "attachments": {},
   "cell_type": "markdown",
   "metadata": {
    "id": "8dUGFPw32_ag"
   },
   "source": [
    "--------------------\n",
    "Finally since our example problem has an optimal solution we can plot it"
   ]
  },
  {
   "cell_type": "code",
   "execution_count": null,
   "metadata": {
    "colab": {
     "base_uri": "https://localhost:8080/",
     "height": 499
    },
    "id": "x4cGJOqB2_ag",
    "outputId": "4f1c9cb5-874d-40fe-cc6a-3d9387aaf223"
   },
   "outputs": [],
   "source": [
    "solver = SolverTSP(\"optimal\", p_inst)\n",
    "solver.solved = True\n",
    "# the solution is the optimal tour\n",
    "solver.solution = np.concatenate([p_inst.optimal_tour, [p_inst.optimal_tour[0]]])\n",
    "solver.plot_solution()"
   ]
  },
  {
   "cell_type": "markdown",
   "metadata": {},
   "source": [
    "### JOB SHOP SCHEDULING\n",
    "JSPLIB"
   ]
  },
  {
   "cell_type": "code",
   "execution_count": null,
   "metadata": {},
   "outputs": [],
   "source": [
    "# coding: utf-8\n",
    "import os\n",
    "import sys\n",
    "import json\n",
    "import math\n",
    "import numpy as np\n",
    "\n",
    "Target = 'abz5'\n",
    "\n",
    "file = open('./instances.json', \"r\" )\n",
    "data = json.load(file)\n",
    "\n",
    "instance = [ inst for inst in data if inst['name'] == Target ]\n",
    "if(len(instance) == 0):\n",
    "    raise Exception(\"There is no instance named %s\" % Target)\n",
    "\n",
    "instance = instance[0]\n",
    "path = os.path.abspath(\"../%s\" % instance['path'])\n",
    "optimum = instance['optimum']\n",
    "\n",
    "if( optimum is None ):\n",
    "    if( instance['bounds'] is None ):\n",
    "        optimum = \"nan\"\n",
    "    else:\n",
    "        optimum = instance['bounds']['lower']\n",
    "\n",
    "sys.stdout.write('--instance %s --optimum %s' % (path,optimum))"
   ]
  },
  {
   "cell_type": "code",
   "execution_count": null,
   "metadata": {},
   "outputs": [],
   "source": [
    "# EXAMPLE OF HOW JOBS SHOULD BE PRESENTED\n",
    "job_times = [[2, 1, 3], [4, 2, 1], [3, 3, 2]] # [0, 1, 2, 3, 4, 5, 6 ,7, 8] (how represented in the solution, flatten and re-enumerated)\n",
    "# job 0: [2, 1, 3]\n",
    "# Machine 1: 2, index 0 in the solution\n",
    "# Machine 2: 1  index 1 in the solution\n",
    "# Machine 3: 3  index 2 in the solution\n",
    "# etc. same for the others\n",
    "# job_times[i][j] represents the processing time of job i on machine j.\n",
    "# The objective is typically to minimize the total time required to complete all jobs (the makespan).\n",
    "\n",
    "path_file = './instances/abz5'\n",
    "\n",
    "# read raw data\n",
    "with open(path_file) as f_o:\n",
    "    data = f_o.read()\n",
    "    lines = data.splitlines()\n",
    "    print(lines)\n",
    "\n",
    "jobs = np.zeros((10, 10))\n",
    "lines = lines[5:]\n",
    "lines, len(lines)\n",
    "\n",
    "for i in range(len(lines)-1):\n",
    "    # TODO"
   ]
  },
  {
   "cell_type": "code",
   "execution_count": null,
   "metadata": {},
   "outputs": [],
   "source": [
    "from mealpy import PermutationVar, Problem, WOA\n",
    "\n",
    "# abz5 instance\n",
    "job_times =[[86., 67., 89., 92., 88., 99., 94., 99., 68., 77.], \n",
    "            [92., 82., 94., 50., 75., 72., 69., 94., 66., 63.],\n",
    "              [83., 65., 55., 77., 85., 85., 64., 78., 61., 83.],\n",
    "                [76., 61., 68., 54., 99., 66., 75., 94., 67., 63.], \n",
    "                 [99., 86., 67., 69., 88., 68., 95., 67., 95., 82.],\n",
    "                  [88., 99., 80., 79., 81., 64., 66., 69., 80., 62.],\n",
    "                    [95., 86., 66., 96., 97., 99., 52., 50., 97., 71.],\n",
    "                      [62., 71., 51., 82., 98., 94., 73., 85., 95., 79.],\n",
    "                        [94., 66., 90., 81., 76., 58., 71., 85., 93., 97.],\n",
    "                          [59., 82., 96., 50., 81., 59., 58., 56., 67., 96.]]\n",
    "\n",
    "machine_times = [[3, 2, 1], [1, 4, 2], [2, 3, 2]]\n",
    "\n",
    "n_jobs = len(job_times)\n",
    "n_machines = 10 #len(machine_times)\n",
    "\n",
    "\n",
    "data = {\n",
    "    \"job_times\": job_times,\n",
    "    \"machine_times\": machine_times,\n",
    "    \"n_jobs\": n_jobs,\n",
    "    \"n_machines\": n_machines\n",
    "}\n",
    "\n",
    "class JobShopProblem(Problem):\n",
    "    def __init__(self, bounds=None, minmax=\"min\", data=None, **kwargs):\n",
    "        self.data = data\n",
    "        super().__init__(bounds, minmax, **kwargs)\n",
    "\n",
    "        # Objective function to minimize the makespan\n",
    "    def obj_func(self, x):\n",
    "        x_decoded = self.decode_solution(x)\n",
    "        x = x_decoded[\"per_var\"]\n",
    "\n",
    "        # Initialize the makespan matrix with zeroes for all jobs and machines\n",
    "        makespan = np.zeros((self.data[\"n_jobs\"], self.data[\"n_machines\"]))\n",
    "        \n",
    "        # Arrays to track the completion time of each job and each machine\n",
    "        job_completion = np.zeros(self.data[\"n_jobs\"])\n",
    "        machine_completion = np.zeros(self.data[\"n_machines\"])\n",
    "\n",
    "        for gene in x:\n",
    "            # Decode gene into job and machine indices\n",
    "            job_idx = gene // self.data[\"n_machines\"]\n",
    "            machine_idx = gene % self.data[\"n_machines\"]\n",
    "            \n",
    "            # Completion time for this job on this machine depends on two things:\n",
    "            # 1. The time when the machine becomes available (from previous job)\n",
    "            # 2. The time when the job is ready to be processed on this machine (from previous machine)\n",
    "            \n",
    "            start_time = max(job_completion[job_idx], machine_completion[machine_idx])\n",
    "            \n",
    "            # Update the makespan matrix with start time + processing time\n",
    "            makespan[job_idx][machine_idx] = start_time + self.data[\"job_times\"][job_idx][machine_idx]\n",
    "            \n",
    "            # Update the completion time of this job and this machine\n",
    "            job_completion[job_idx] = makespan[job_idx][machine_idx]\n",
    "            machine_completion[machine_idx] = makespan[job_idx][machine_idx]\n",
    "        \n",
    "        # The makespan (objective value) is the maximum value in the makespan matrix\n",
    "        return np.max(makespan)\n",
    "        \n",
    "\n",
    "bounds = PermutationVar(valid_set=list(range(0, n_jobs*n_machines)), name=\"per_var\")\n",
    "problem = JobShopProblem(bounds=bounds, minmax=\"min\", data=data)\n",
    "\n",
    "\n",
    "model = WOA.OriginalWOA(epoch=100, pop_size=20)\n",
    "model.solve(problem)\n",
    "\n",
    "print(f\"Best agent: {model.g_best}\")                    # Encoded solution\n",
    "print(f\"Best solution: {model.g_best.solution}\")        # Encoded solution\n",
    "print(f\"Best fitness: {model.g_best.target.fitness}\")\n",
    "print(f\"Best real scheduling: {model.problem.decode_solution(model.g_best.solution)}\")      # Decoded (Real) solution"
   ]
  },
  {
   "cell_type": "code",
   "execution_count": null,
   "metadata": {},
   "outputs": [],
   "source": [
    "def plot_gantt_chart(solution, job_times):\n",
    "    n_jobs = len(job_times)\n",
    "    n_machines = len(job_times[0])\n",
    "    \n",
    "    # Decode the solution\n",
    "    decoded = problem.decode_solution(solution)[\"per_var\"]\n",
    "    \n",
    "    # Initialize data structures\n",
    "    job_completion = np.zeros(n_jobs)\n",
    "    machine_completion = np.zeros(n_machines)\n",
    "    tasks = []\n",
    "    \n",
    "    # Generate a color for each job\n",
    "    colors = plt.cm.get_cmap('hsv', n_jobs)\n",
    "\n",
    "    for gene in decoded:\n",
    "        job_idx = gene // n_machines\n",
    "        machine_idx = gene % n_machines\n",
    "        start_time = max(job_completion[job_idx], machine_completion[machine_idx])\n",
    "        end_time = start_time + job_times[job_idx][machine_idx]\n",
    "        \n",
    "        # Record the task for Gantt chart\n",
    "        tasks.append((machine_idx, start_time, end_time, job_idx))\n",
    "        \n",
    "        # Update completion times\n",
    "        job_completion[job_idx] = end_time\n",
    "        machine_completion[machine_idx] = end_time\n",
    "    \n",
    "    # Plotting\n",
    "    fig, gnt = plt.subplots(figsize=(12, 6))  # Set a larger figure size\n",
    "    gnt.set_xlabel('Time')\n",
    "    gnt.set_ylabel('Machines')\n",
    "    gnt.set_title('Gantt Chart for Job Shop Scheduling')\n",
    "\n",
    "    # Set the y-ticks to represent machines\n",
    "    gnt.set_yticks(range(n_machines))\n",
    "    gnt.set_yticklabels([f'Machine {i+1}' for i in range(n_machines)])\n",
    "\n",
    "    # Add tasks to the Gantt chart\n",
    "    for machine_idx, start_time, end_time, job_idx in tasks:\n",
    "        gnt.broken_barh([(start_time, end_time - start_time)], (machine_idx - 0.4, 0.8), \n",
    "                         facecolors=colors(job_idx / n_jobs))  # Assign color based on job index\n",
    "        gnt.text(start_time + (end_time - start_time) / 2, machine_idx, \n",
    "                 f'Job {job_idx + 1}', ha='center', va='center', color='black')\n",
    "\n",
    "    plt.show()\n",
    "\n",
    "# After solving the problem, visualize the best solution\n",
    "plot_gantt_chart(model.g_best.solution, job_times)"
   ]
  }
 ],
 "metadata": {
  "colab": {
   "name": "Student_lecture 1.ipynb",
   "provenance": []
  },
  "kernelspec": {
   "display_name": "Python 3",
   "language": "python",
   "name": "python3"
  },
  "language_info": {
   "codemirror_mode": {
    "name": "ipython",
    "version": 3
   },
   "file_extension": ".py",
   "mimetype": "text/x-python",
   "name": "python",
   "nbconvert_exporter": "python",
   "pygments_lexer": "ipython3",
   "version": "3.12.4"
  }
 },
 "nbformat": 4,
 "nbformat_minor": 0
}
